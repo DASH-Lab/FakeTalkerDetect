{
 "cells": [
  {
   "cell_type": "code",
   "execution_count": 4,
   "metadata": {},
   "outputs": [],
   "source": [
    "import os, shutil\n",
    "import glob\n",
    "import tensorflow as tf\n",
    "from keras import backend as K\n",
    "os.environ[\"CUDA_VISIBLE_DEVICES\"] = '0'\n",
    "config = tf.ConfigProto()\n",
    "config.gpu_options.allow_growth = True\n",
    "sess = tf.Session(config=config)\n",
    "K.set_session(sess)"
   ]
  },
  {
   "cell_type": "markdown",
   "metadata": {},
   "source": [
    "## Devide real, fake(Train, Validation data)"
   ]
  },
  {
   "cell_type": "code",
   "execution_count": 2,
   "metadata": {
    "collapsed": true
   },
   "outputs": [],
   "source": [
    "base_dir = '/home/skkulab/ICCV/Dataset/preprocessed_dataset'\n",
    "\n",
    "# train, valid, data directory\n",
    "train_dir = os.path.join(base_dir, 'train')\n",
    "shutil.rmtree(train_dir)\n",
    "os.mkdir(train_dir)\n",
    "validation_dir = os.path.join(base_dir, 'validation')\n",
    "shutil.rmtree(validation_dir)\n",
    "os.mkdir(validation_dir)\n",
    "\n",
    "# train real, fake data\n",
    "train_real_dir = os.path.join(train_dir, '0_real')\n",
    "os.mkdir(train_real_dir)\n",
    "train_fake_dir = os.path.join(train_dir, '1_fake')\n",
    "os.mkdir(train_fake_dir)\n",
    "\n",
    "# validation real, fake data\n",
    "validation_real_dir = os.path.join(validation_dir, '0_real')\n",
    "os.mkdir(validation_real_dir)\n",
    "validation_fake_dir = os.path.join(validation_dir, '1_fake')\n",
    "os.mkdir(validation_fake_dir)"
   ]
  },
  {
   "cell_type": "code",
   "execution_count": 3,
   "metadata": {},
   "outputs": [
    {
     "ename": "KeyboardInterrupt",
     "evalue": "",
     "output_type": "error",
     "traceback": [
      "\u001b[0;31m---------------------------------------------------------------------------\u001b[0m",
      "\u001b[0;31mKeyboardInterrupt\u001b[0m                         Traceback (most recent call last)",
      "\u001b[0;32m<ipython-input-3-d4ef074a45c8>\u001b[0m in \u001b[0;36m<module>\u001b[0;34m()\u001b[0m\n\u001b[1;32m     12\u001b[0m         \u001b[0mshutil\u001b[0m\u001b[0;34m.\u001b[0m\u001b[0mcopy\u001b[0m\u001b[0;34m(\u001b[0m\u001b[0mfilename\u001b[0m\u001b[0;34m,\u001b[0m \u001b[0mtrain_real_dir\u001b[0m\u001b[0;34m)\u001b[0m\u001b[0;34m\u001b[0m\u001b[0m\n\u001b[1;32m     13\u001b[0m \u001b[0;34m\u001b[0m\u001b[0m\n\u001b[0;32m---> 14\u001b[0;31m     \u001b[0mnb_real_data\u001b[0m \u001b[0;34m=\u001b[0m \u001b[0mlen\u001b[0m\u001b[0;34m(\u001b[0m\u001b[0mnext\u001b[0m\u001b[0;34m(\u001b[0m\u001b[0mos\u001b[0m\u001b[0;34m.\u001b[0m\u001b[0mwalk\u001b[0m\u001b[0;34m(\u001b[0m\u001b[0mtrain_real_dir\u001b[0m\u001b[0;34m)\u001b[0m\u001b[0;34m)\u001b[0m\u001b[0;34m[\u001b[0m\u001b[0;36m2\u001b[0m\u001b[0;34m]\u001b[0m\u001b[0;34m)\u001b[0m\u001b[0;34m\u001b[0m\u001b[0m\n\u001b[0m\u001b[1;32m     15\u001b[0m     \u001b[0mnb_fake_data\u001b[0m \u001b[0;34m=\u001b[0m \u001b[0mlen\u001b[0m\u001b[0;34m(\u001b[0m\u001b[0mnext\u001b[0m\u001b[0;34m(\u001b[0m\u001b[0mos\u001b[0m\u001b[0;34m.\u001b[0m\u001b[0mwalk\u001b[0m\u001b[0;34m(\u001b[0m\u001b[0mtrain_fake_dir\u001b[0m\u001b[0;34m)\u001b[0m\u001b[0;34m)\u001b[0m\u001b[0;34m[\u001b[0m\u001b[0;36m2\u001b[0m\u001b[0;34m]\u001b[0m\u001b[0;34m)\u001b[0m\u001b[0;34m\u001b[0m\u001b[0m\n\u001b[1;32m     16\u001b[0m \u001b[0;34m\u001b[0m\u001b[0m\n",
      "\u001b[0;32m~/anaconda3/lib/python3.6/os.py\u001b[0m in \u001b[0;36mwalk\u001b[0;34m(top, topdown, onerror, followlinks)\u001b[0m\n\u001b[1;32m    356\u001b[0m             \u001b[0;32mtry\u001b[0m\u001b[0;34m:\u001b[0m\u001b[0;34m\u001b[0m\u001b[0m\n\u001b[1;32m    357\u001b[0m                 \u001b[0;32mtry\u001b[0m\u001b[0;34m:\u001b[0m\u001b[0;34m\u001b[0m\u001b[0m\n\u001b[0;32m--> 358\u001b[0;31m                     \u001b[0mentry\u001b[0m \u001b[0;34m=\u001b[0m \u001b[0mnext\u001b[0m\u001b[0;34m(\u001b[0m\u001b[0mscandir_it\u001b[0m\u001b[0;34m)\u001b[0m\u001b[0;34m\u001b[0m\u001b[0m\n\u001b[0m\u001b[1;32m    359\u001b[0m                 \u001b[0;32mexcept\u001b[0m \u001b[0mStopIteration\u001b[0m\u001b[0;34m:\u001b[0m\u001b[0;34m\u001b[0m\u001b[0m\n\u001b[1;32m    360\u001b[0m                     \u001b[0;32mbreak\u001b[0m\u001b[0;34m\u001b[0m\u001b[0m\n",
      "\u001b[0;31mKeyboardInterrupt\u001b[0m: "
     ]
    }
   ],
   "source": [
    "# devide real, fake data\n",
    "\n",
    "# number of real, fake data\n",
    "nb_data = 140000\n",
    "\n",
    "for filename in glob.glob('/home/skkulab/ICCV/Dataset/trainset/*.png'):\n",
    "    # copy fake data\n",
    "    if('hat' in filename):\n",
    "        shutil.copy(filename, train_fake_dir)\n",
    "    # copy real data\n",
    "    else:\n",
    "        shutil.copy(filename, train_real_dir)\n",
    "        \n",
    "    nb_real_data = len(next(os.walk(train_real_dir))[2])\n",
    "    nb_fake_data = len(next(os.walk(train_fake_dir))[2])\n",
    "    \n",
    "    # to make real, fake nb same\n",
    "    if((nb_real_data == nb_data) and (nb_fake_data == nb_data)):\n",
    "        break        \n",
    "     \n",
    "    \n",
    "print(\"Real data:\", len(next(os.walk(train_real_dir))[2]))\n",
    "print(\"Fake data:\", len(next(os.walk(train_fake_dir))[2]))"
   ]
  },
  {
   "cell_type": "markdown",
   "metadata": {},
   "source": [
    "### Train, Validation split"
   ]
  },
  {
   "cell_type": "code",
   "execution_count": 5,
   "metadata": {},
   "outputs": [
    {
     "name": "stdout",
     "output_type": "stream",
     "text": [
      "Real train data : 125851\n",
      "Real validation data : 14149\n"
     ]
    }
   ],
   "source": [
    "# real data split\n",
    "for filename in glob.glob('/home/skkulab/ICCV/Dataset/preprocessed_dataset/train/0_real/*.png'):\n",
    "    shutil.move(filename, validation_real_dir)\n",
    "    if(len(next(os.walk(validation_real_dir))[2]) > (nb_real_data*0.1)):\n",
    "        break\n",
    "\n",
    "nb_real_train_data = len(next(os.walk(train_real_dir))[2])\n",
    "nb_real_validation_data = len(next(os.walk(validation_real_dir))[2])\n",
    "\n",
    "print(\"Real train data :\", nb_real_train_data)\n",
    "print(\"Real validation data :\", nb_real_validation_data)"
   ]
  },
  {
   "cell_type": "code",
   "execution_count": 6,
   "metadata": {},
   "outputs": [
    {
     "name": "stdout",
     "output_type": "stream",
     "text": [
      "Fake train data : 125873\n",
      "Fake validation data : 14127\n"
     ]
    }
   ],
   "source": [
    "# fake data split\n",
    "for filename in glob.glob('/home/skkulab/ICCV/Dataset/preprocessed_dataset/train/1_fake/*.png'):\n",
    "    shutil.move(filename, validation_fake_dir)\n",
    "    if(len(next(os.walk(validation_fake_dir))[2]) > (nb_fake_data*0.1)):\n",
    "        break\n",
    "\n",
    "nb_fake_train_data = len(next(os.walk(train_fake_dir))[2])\n",
    "nb_fake_validation_data = len(next(os.walk(validation_fake_dir))[2])\n",
    "\n",
    "print(\"Fake train data :\", nb_fake_train_data)\n",
    "print(\"Fake validation data :\", nb_fake_validation_data)"
   ]
  },
  {
   "cell_type": "markdown",
   "metadata": {},
   "source": [
    "## Devide real, fake(Test data)"
   ]
  },
  {
   "cell_type": "code",
   "execution_count": 7,
   "metadata": {
    "collapsed": true,
    "scrolled": false
   },
   "outputs": [],
   "source": [
    "base_dir = '/home/skkulab/ICCV/Dataset/preprocessed_dataset'\n",
    "\n",
    "# test data directory\n",
    "test_dir = os.path.join(base_dir, 'test')\n",
    "shutil.rmtree(test_dir)\n",
    "os.mkdir(test_dir)\n",
    "\n",
    "# test real, fake data\n",
    "test_real_dir = os.path.join(test_dir, '0_real')\n",
    "os.mkdir(test_real_dir)\n",
    "test_fake_dir = os.path.join(test_dir, '1_fake')\n",
    "os.mkdir(test_fake_dir)"
   ]
  },
  {
   "cell_type": "code",
   "execution_count": 8,
   "metadata": {},
   "outputs": [
    {
     "name": "stdout",
     "output_type": "stream",
     "text": [
      "Real test data:  141485\n",
      "Fake test data:  141262\n"
     ]
    }
   ],
   "source": [
    "# devide real, fake data\n",
    "for filename in glob.glob('/home/skkulab/ICCV/Dataset/testset/*.png'):\n",
    "    # copy fake data\n",
    "    if('hat' in filename):\n",
    "        shutil.copy(filename, test_fake_dir)\n",
    "    # copy real data\n",
    "    else:\n",
    "        shutil.copy(filename, test_real_dir)\n",
    "        \n",
    "nb_real_test_data = len(next(os.walk(test_real_dir))[2])\n",
    "nb_fake_test_data = len(next(os.walk(test_fake_dir))[2])\n",
    "\n",
    "print(\"Real test data: \", nb_real_data)\n",
    "print(\"Fake test data: \", nb_fake_data)"
   ]
  },
  {
   "cell_type": "markdown",
   "metadata": {},
   "source": [
    "## Delete Test data?"
   ]
  },
  {
   "cell_type": "code",
   "execution_count": null,
   "metadata": {
    "collapsed": true
   },
   "outputs": [],
   "source": [
    "# delete fake test data\n",
    "\"\"\"\n",
    "for filename in glob.glob('/home/skkulab/ICCV/Dataset/preprocessed_dataset/test/1_fake/*.png'):\n",
    "    os.remove(filename)\n",
    "    if(len(next(os.walk(test_fake_dir))[2]) < (nb_fake_test_data*0.02)):\n",
    "        break\n",
    "        \n",
    "nb_fake_test_data = len(next(os.walk(test_fake_dir))[2])\n",
    "print(\"fake test data :\", nb_fake_test_data)\n",
    "\"\"\""
   ]
  }
 ],
 "metadata": {
  "kernelspec": {
   "display_name": "Python 3",
   "language": "python",
   "name": "python3"
  },
  "language_info": {
   "codemirror_mode": {
    "name": "ipython",
    "version": 3
   },
   "file_extension": ".py",
   "mimetype": "text/x-python",
   "name": "python",
   "nbconvert_exporter": "python",
   "pygments_lexer": "ipython3",
   "version": "3.6.3"
  }
 },
 "nbformat": 4,
 "nbformat_minor": 2
}
