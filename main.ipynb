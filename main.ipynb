{
 "cells": [
  {
   "cell_type": "code",
   "execution_count": 48,
   "metadata": {},
   "outputs": [],
   "source": [
    "import numpy as np\n",
    "import pandas as pd\n",
    "import os\n",
    "import tensorflow as tf\n",
    "from keras import backend as K\n",
    "os.environ[\"CUDA_VISIBLE_DEVICES\"] = '3'\n",
    "config = tf.ConfigProto()\n",
    "config.gpu_options.allow_growth = True\n",
    "sess = tf.Session(config=config)\n",
    "K.set_session(sess)\n",
    "\n",
    "from keras.applications import VGG16\n",
    "from keras.layers import Input, Dense, Flatten, GlobalAveragePooling2D, Activation, Conv2D, MaxPooling2D, BatchNormalization, Lambda\n",
    "from keras.models import Model, load_model\n",
    "from keras.preprocessing.image import ImageDataGenerator\n",
    "from keras.optimizers import Adam, SGD\n",
    "from keras.callbacks import EarlyStopping, ReduceLROnPlateau\n",
    "from sklearn import metrics\n",
    "from sklearn.metrics import roc_curve, roc_auc_score, confusion_matrix\n",
    "import matplotlib.pyplot as plt\n",
    "from scipy.optimize import brentq\n",
    "from scipy.interpolate import interp1d\n",
    "import glob\n",
    "from PIL import Image\n",
    "from tqdm import tqdm, trange"
   ]
  },
  {
   "cell_type": "code",
   "execution_count": 49,
   "metadata": {
    "collapsed": true
   },
   "outputs": [],
   "source": [
    "nb_classes = 1  # number of classes\n",
    "img_width, img_height = 224, 224  # change based on the shape/structure of your images\n",
    "batch_size = 32  # try 4, 8, 16, 32, 64, 128, 256 dependent on CPU/GPU memory capacity (powers of 2 values).\n",
    "nb_epoch = 50  # number of iteration the algorithm gets trained.\n",
    "learn_rate = 1e-5  # sgd learning rate\n",
    "\n",
    "train_dir = '/home/skkulab/ICCV/Dataset/preprocessed_dataset/train'\n",
    "validation_dir = '/home/skkulab/ICCV/Dataset/preprocessed_dataset/validation'\n",
    "test_dir = '/home/skkulab/ICCV/Dataset/preprocessed_dataset/test'"
   ]
  },
  {
   "cell_type": "markdown",
   "metadata": {},
   "source": [
    "### AlexNet Model"
   ]
  },
  {
   "cell_type": "code",
   "execution_count": 50,
   "metadata": {
    "scrolled": true
   },
   "outputs": [],
   "source": [
    "img_input = Input(shape=(img_height, img_width, 3))\n",
    "\n",
    "x = Conv2D(96, 11, strides=4, padding='same', use_bias=False)(img_input) # 15\n",
    "x = Activation('relu')(x)\n",
    "\n",
    "x = Conv2D(256, 5, strides=1, padding='same', use_bias=False)(x)\n",
    "x = Activation('relu')(x)\n",
    "\n",
    "x = MaxPooling2D(pool_size=3, strides=2, padding='valid')(x) # 8\n",
    "\n",
    "x = Conv2D(384, 3, strides=1, padding='same', use_bias=False)(x) # 15\n",
    "x = Activation('relu')(x)\n",
    "\n",
    "x = MaxPooling2D(pool_size=3, strides=2, padding='valid')(x) # 8\n",
    "\n",
    "x = Conv2D(384, 3, strides=1, padding='same', use_bias=False)(x) # 15\n",
    "x = Activation('relu')(x)\n",
    "x = Conv2D(256, 3, strides=1, padding='same', use_bias=False)(x)\n",
    "x = Activation('relu')(x)\n",
    "\n",
    "model_out = MaxPooling2D(pool_size=3, strides=2, padding='valid')(x) # 8"
   ]
  },
  {
   "cell_type": "code",
   "execution_count": 51,
   "metadata": {
    "scrolled": true
   },
   "outputs": [
    {
     "name": "stdout",
     "output_type": "stream",
     "text": [
      "_________________________________________________________________\n",
      "Layer (type)                 Output Shape              Param #   \n",
      "=================================================================\n",
      "input_9 (InputLayer)         (None, 224, 224, 3)       0         \n",
      "_________________________________________________________________\n",
      "conv2d_6 (Conv2D)            (None, 56, 56, 96)        34848     \n",
      "_________________________________________________________________\n",
      "activation_8 (Activation)    (None, 56, 56, 96)        0         \n",
      "_________________________________________________________________\n",
      "conv2d_7 (Conv2D)            (None, 56, 56, 256)       614400    \n",
      "_________________________________________________________________\n",
      "activation_9 (Activation)    (None, 56, 56, 256)       0         \n",
      "_________________________________________________________________\n",
      "max_pooling2d_4 (MaxPooling2 (None, 27, 27, 256)       0         \n",
      "_________________________________________________________________\n",
      "conv2d_8 (Conv2D)            (None, 27, 27, 384)       884736    \n",
      "_________________________________________________________________\n",
      "activation_10 (Activation)   (None, 27, 27, 384)       0         \n",
      "_________________________________________________________________\n",
      "max_pooling2d_5 (MaxPooling2 (None, 13, 13, 384)       0         \n",
      "_________________________________________________________________\n",
      "conv2d_9 (Conv2D)            (None, 13, 13, 384)       1327104   \n",
      "_________________________________________________________________\n",
      "activation_11 (Activation)   (None, 13, 13, 384)       0         \n",
      "_________________________________________________________________\n",
      "conv2d_10 (Conv2D)           (None, 13, 13, 256)       884736    \n",
      "_________________________________________________________________\n",
      "activation_12 (Activation)   (None, 13, 13, 256)       0         \n",
      "_________________________________________________________________\n",
      "max_pooling2d_6 (MaxPooling2 (None, 6, 6, 256)         0         \n",
      "_________________________________________________________________\n",
      "global_average_pooling2d_2 ( (None, 256)               0         \n",
      "_________________________________________________________________\n",
      "dense_3 (Dense)              (None, 4096)              1052672   \n",
      "_________________________________________________________________\n",
      "activation_13 (Activation)   (None, 4096)              0         \n",
      "_________________________________________________________________\n",
      "dense_4 (Dense)              (None, 1)                 4097      \n",
      "_________________________________________________________________\n",
      "activation_14 (Activation)   (None, 1)                 0         \n",
      "=================================================================\n",
      "Total params: 4,802,593\n",
      "Trainable params: 4,802,593\n",
      "Non-trainable params: 0\n",
      "_________________________________________________________________\n",
      "None\n",
      "9\n"
     ]
    }
   ],
   "source": [
    "# Add fully connected layer\n",
    "x = GlobalAveragePooling2D()(model_out)\n",
    "x = Dense(4096, activation=None)(x)\n",
    "x = Activation('relu')(x)\n",
    "x = Dense(1, activation=None)(x)\n",
    "out = Activation('sigmoid')(x)\n",
    "\n",
    "model = Model(img_input, out)\n",
    "print(model.summary())\n",
    "print(len(model.trainable_weights))"
   ]
  },
  {
   "cell_type": "code",
   "execution_count": 52,
   "metadata": {},
   "outputs": [
    {
     "name": "stdout",
     "output_type": "stream",
     "text": [
      "9\n"
     ]
    }
   ],
   "source": [
    "model.compile(optimizer=Adam(lr=learn_rate),\n",
    "              loss='binary_crossentropy',\n",
    "              metrics=['accuracy'])\n",
    "\n",
    "print(len(model.trainable_weights))"
   ]
  },
  {
   "cell_type": "markdown",
   "metadata": {},
   "source": [
    "### Preparing train, validation data"
   ]
  },
  {
   "cell_type": "code",
   "execution_count": 53,
   "metadata": {},
   "outputs": [
    {
     "name": "stdout",
     "output_type": "stream",
     "text": [
      "Found 251702 images belonging to 2 classes.\n",
      "Found 28298 images belonging to 2 classes.\n",
      "Found 17714 images belonging to 2 classes.\n"
     ]
    }
   ],
   "source": [
    "train_datagen = ImageDataGenerator(rescale=1./255)\n",
    "validation_datagen = ImageDataGenerator(rescale=1./255)\n",
    "test_datagen = ImageDataGenerator(rescale=1./255)\n",
    "\n",
    "train_generator = train_datagen.flow_from_directory(train_dir,\n",
    "                                                    target_size=(img_height, img_width),\n",
    "                                                    batch_size=batch_size,\n",
    "                                                    shuffle=True,\n",
    "                                                    class_mode='binary')\n",
    "\n",
    "validation_generator = validation_datagen.flow_from_directory(validation_dir,\n",
    "                                                        target_size=(img_height, img_width),\n",
    "                                                        batch_size=batch_size,\n",
    "                                                        shuffle=True,\n",
    "                                                        class_mode='binary')\n",
    "\n",
    "test_generator = test_datagen.flow_from_directory(test_dir,\n",
    "                                                  target_size=(img_height, img_width),\n",
    "                                                  batch_size=32,\n",
    "                                                  shuffle=True,\n",
    "                                                  class_mode='binary')"
   ]
  },
  {
   "cell_type": "code",
   "execution_count": 54,
   "metadata": {},
   "outputs": [
    {
     "data": {
      "text/plain": [
       "999"
      ]
     },
     "execution_count": 54,
     "metadata": {},
     "output_type": "execute_result"
    }
   ],
   "source": [
    "test_classes = test_generator.classes\n",
    "\n",
    "len(test_classes[test_classes == 0])"
   ]
  },
  {
   "cell_type": "markdown",
   "metadata": {},
   "source": [
    "### Train model(weight unfreezed)"
   ]
  },
  {
   "cell_type": "code",
   "execution_count": 55,
   "metadata": {
    "collapsed": true
   },
   "outputs": [],
   "source": [
    "callback_list = [EarlyStopping(monitor='val_acc', patience=5),\n",
    "                 ReduceLROnPlateau(monitor='val_loss', factor=0.1, patience=3)]"
   ]
  },
  {
   "cell_type": "code",
   "execution_count": null,
   "metadata": {
    "scrolled": true
   },
   "outputs": [
    {
     "name": "stdout",
     "output_type": "stream",
     "text": [
      "Epoch 1/20\n",
      "100/100 [==============================] - 340s 3s/step - loss: 0.6437 - acc: 0.5353 - val_loss: 0.4856 - val_acc: 0.7614\n",
      "Epoch 2/20\n",
      "100/100 [==============================] - 141s 1s/step - loss: 0.2338 - acc: 0.9441 - val_loss: 0.1244 - val_acc: 0.9630\n",
      "Epoch 3/20\n",
      "100/100 [==============================] - 140s 1s/step - loss: 0.1220 - acc: 0.9619 - val_loss: 0.1025 - val_acc: 0.9693\n",
      "Epoch 4/20\n",
      " 99/100 [============================>.] - ETA: 0s - loss: 0.0987 - acc: 0.9703"
     ]
    }
   ],
   "source": [
    "history = model.fit_generator(train_generator,\n",
    "                             steps_per_epoch=100,\n",
    "                             epochs=20,\n",
    "                             validation_data=validation_generator,\n",
    "                             validation_steps=len(validation_generator),\n",
    "                             callbacks=callback_list,\n",
    "                             verbose=1)"
   ]
  },
  {
   "cell_type": "code",
   "execution_count": null,
   "metadata": {
    "collapsed": true
   },
   "outputs": [],
   "source": [
    "model.save(\"alexnet_95_2.h5\")"
   ]
  },
  {
   "cell_type": "markdown",
   "metadata": {},
   "source": [
    "### Fine-Tune model(weight freezed)"
   ]
  },
  {
   "cell_type": "code",
   "execution_count": 11,
   "metadata": {
    "collapsed": true
   },
   "outputs": [],
   "source": [
    "def generator(directory, batch_size=32):\n",
    "    folder =  np.sort(os.listdir(directory))\n",
    "    real_img = np.asarray(glob.glob(directory + '/' + folder[0]+'/*.png'))\n",
    "    real_idx = np.arange(len(real_img))\n",
    "    \n",
    "    while 1:\n",
    "        X1 = []\n",
    "        X2 = []\n",
    "        y = []\n",
    "        \n",
    "        if (len(real_idx) < batch_size):\n",
    "            real_idx = np.arange(len(real_img))\n",
    "            continue\n",
    "        \n",
    "        for _ in range(batch_size):\n",
    "            if (len(real_idx) < batch_size):\n",
    "                real_idx = np.arange(len(real_img))\n",
    "                break\n",
    "            random1 = np.random.choice(real_idx, 1, replace=False)\n",
    "            real_idx = real_idx[~np.isin(real_idx, random1)]\n",
    "            random2 = np.random.choice(real_idx, 1, replace=False)\n",
    "            real_idx = real_idx[~np.isin(real_idx, random2)]\n",
    "            X1.append(np.asarray(Image.open(real_img[random1[0]]).convert(\"RGB\"))/255.)\n",
    "            X2.append(np.asarray(Image.open(real_img[random2[0]]).convert(\"RGB\"))/255.)\n",
    "            y.append(np.array([0.]))\n",
    "\n",
    "        X1 = np.asarray(X1)\n",
    "        X2 = np.asarray(X2)\n",
    "        y = np.asarray(y)\n",
    "        yield [X1, X2], y\n",
    "        \n",
    "def generator_res(ft_dir, directory, batch_size=1):\n",
    "    folder = np.sort(os.listdir(directory))\n",
    "    real_img = np.asarray(glob.glob(ft_dir + '/' + '0' +'/*.png'))\n",
    "    real_idx = np.arange(len(real_img))\n",
    "    random1 = np.random.choice(real_idx, 1, replace=False)\n",
    "    img = np.asarray(Image.open(real_img[random1[0]]).convert(\"RGB\"))/255.\n",
    "    fake_img = np.asarray(glob.glob(directory + '/' + folder[1] + '/*.png'))\n",
    "    fake_idx = np.arange(len(fake_img))\n",
    "    test_img = np.asarray(glob.glob(directory + '/' + folder[0] + '/*.png'))\n",
    "    test_idx = np.arange(len(test_img))\n",
    "    while 1:\n",
    "        X1 = []\n",
    "        X2 = []\n",
    "        y = []\n",
    "        if (len(fake_idx) < batch_size):\n",
    "            break\n",
    "        if (len(test_idx) < batch_size):\n",
    "            break\n",
    "        \n",
    "        for _ in range(batch_size):\n",
    "            if np.random.random() < 0.95:\n",
    "            \n",
    "                if (len(fake_idx) < batch_size):\n",
    "                    fake_idx = np.arange(len(fake_img))\n",
    "                    break\n",
    "                random2 = np.random.choice(fake_idx, 1, replace=False)\n",
    "                fake_idx = fake_idx[~np.isin(fake_idx, random2)]\n",
    "                X1.append(img)\n",
    "                X2.append(np.asarray(Image.open(fake_img[random2[0]]).convert(\"RGB\"))/255.)\n",
    "                y.append(np.array([1.]))\n",
    "            \n",
    "            else:\n",
    "                if (len(test_idx) < batch_size):\n",
    "                    test_idx = np.arange(len(test_img))\n",
    "                random3 = np.random.choice(test_idx, 1, replace=False)\n",
    "                test_idx = test_idx[~np.isin(test_idx, random3)]\n",
    "                X1.append(img)\n",
    "                X2.append(np.asarray(Image.open(test_img[random3[0]]).convert(\"RGB\"))/255.)\n",
    "                y.append(np.array([0.]))\n",
    "\n",
    "        X1 = np.asarray(X1)\n",
    "        X2 = np.asarray(X2)\n",
    "        y = np.asarray(y)\n",
    "        yield [X1, X2], y"
   ]
  },
  {
   "cell_type": "code",
   "execution_count": 12,
   "metadata": {
    "collapsed": true
   },
   "outputs": [],
   "source": [
    "def manDist(x):\n",
    "    result = K.exp(-K.sum(K.abs(x[0] - x[1]), axis=1, keepdims=True))\n",
    "    return result\n",
    "\n",
    "def euclidean_distance(inputs):\n",
    "    assert len(inputs) == 2, 'Euclidean distance needs 2 inputs, %d given' % len(inputs)\n",
    "    u, v = inputs\n",
    "    return K.sqrt(K.sum((K.square(u - v + 1e-7)), axis=1, keepdims=True))  \n",
    "\n",
    "def contrastive_loss(y_true,y_pred):\n",
    "    margin=1.4\n",
    "    return K.mean((1. - y_true) * K.square(y_pred) + y_true * K.square(K.maximum(margin - y_pred, 0.)))\n",
    "\n",
    "def siamese_acc(y_true, y_pred):\n",
    "    return K.mean((K.equal(y_true, K.cast(y_pred > 0.4, K.floatx()))), axis=1)\n",
    "\n",
    "def y_pred_prt(y_true, y_pred):\n",
    "    return y_pred\n",
    "\n",
    "input_seq = Input(shape=(224, 224, 3))"
   ]
  },
  {
   "cell_type": "code",
   "execution_count": 16,
   "metadata": {},
   "outputs": [
    {
     "name": "stdout",
     "output_type": "stream",
     "text": [
      "Found 1138 images belonging to 2 classes.\n"
     ]
    }
   ],
   "source": [
    "ft_dir = '/home/skkulab/ICCV/Dataset/preprocessed_dataset/fine-tune'\n",
    "ft_datagen = ImageDataGenerator(rescale=1./255)\n",
    "ft_generator = test_datagen.flow_from_directory(ft_dir,\n",
    "                                                  target_size=(img_height, img_width),\n",
    "                                                  batch_size=32,\n",
    "                                                  shuffle=False,\n",
    "                                                  class_mode='binary')"
   ]
  },
  {
   "cell_type": "code",
   "execution_count": 13,
   "metadata": {
    "collapsed": true
   },
   "outputs": [],
   "source": [
    "ft_model = Model(img_input, out)\n",
    "ft_model.set_weights(model.get_weights())\n",
    "for l in range(len(ft_model.layers) - 2):\n",
    "    ft_model.layers[l].trainable = False"
   ]
  },
  {
   "cell_type": "code",
   "execution_count": 14,
   "metadata": {
    "scrolled": false
   },
   "outputs": [
    {
     "name": "stdout",
     "output_type": "stream",
     "text": [
      "_________________________________________________________________\n",
      "Layer (type)                 Output Shape              Param #   \n",
      "=================================================================\n",
      "input_1 (InputLayer)         (None, 224, 224, 3)       0         \n",
      "_________________________________________________________________\n",
      "conv2d_1 (Conv2D)            (None, 56, 56, 96)        34848     \n",
      "_________________________________________________________________\n",
      "activation_1 (Activation)    (None, 56, 56, 96)        0         \n",
      "_________________________________________________________________\n",
      "conv2d_2 (Conv2D)            (None, 56, 56, 256)       614400    \n",
      "_________________________________________________________________\n",
      "activation_2 (Activation)    (None, 56, 56, 256)       0         \n",
      "_________________________________________________________________\n",
      "max_pooling2d_1 (MaxPooling2 (None, 27, 27, 256)       0         \n",
      "_________________________________________________________________\n",
      "conv2d_3 (Conv2D)            (None, 27, 27, 384)       884736    \n",
      "_________________________________________________________________\n",
      "activation_3 (Activation)    (None, 27, 27, 384)       0         \n",
      "_________________________________________________________________\n",
      "max_pooling2d_2 (MaxPooling2 (None, 13, 13, 384)       0         \n",
      "_________________________________________________________________\n",
      "conv2d_4 (Conv2D)            (None, 13, 13, 384)       1327104   \n",
      "_________________________________________________________________\n",
      "activation_4 (Activation)    (None, 13, 13, 384)       0         \n",
      "_________________________________________________________________\n",
      "conv2d_5 (Conv2D)            (None, 13, 13, 256)       884736    \n",
      "_________________________________________________________________\n",
      "activation_5 (Activation)    (None, 13, 13, 256)       0         \n",
      "_________________________________________________________________\n",
      "max_pooling2d_3 (MaxPooling2 (None, 6, 6, 256)         0         \n",
      "_________________________________________________________________\n",
      "global_average_pooling2d_1 ( (None, 256)               0         \n",
      "_________________________________________________________________\n",
      "dense_1 (Dense)              (None, 4096)              1052672   \n",
      "_________________________________________________________________\n",
      "activation_6 (Activation)    (None, 4096)              0         \n",
      "_________________________________________________________________\n",
      "dense_2 (Dense)              (None, 1)                 4097      \n",
      "_________________________________________________________________\n",
      "activation_7 (Activation)    (None, 1)                 0         \n",
      "=================================================================\n",
      "Total params: 4,802,593\n",
      "Trainable params: 4,097\n",
      "Non-trainable params: 4,798,496\n",
      "_________________________________________________________________\n"
     ]
    }
   ],
   "source": [
    "ft_model.summary()\n",
    "ft_model.compile(optimizer=Adam(lr=learn_rate), loss='binary_crossentropy', metrics=['accuracy'])"
   ]
  },
  {
   "cell_type": "code",
   "execution_count": 15,
   "metadata": {
    "scrolled": false
   },
   "outputs": [
    {
     "name": "stdout",
     "output_type": "stream",
     "text": [
      "Epoch 1/3\n",
      "30/30 [==============================] - 4s 118ms/step - loss: 0.1550 - acc: 0.9375\n",
      "Epoch 2/3\n",
      " 1/30 [>.............................] - ETA: 3s - loss: 0.1149 - acc: 0.9375"
     ]
    },
    {
     "name": "stderr",
     "output_type": "stream",
     "text": [
      "/home/skkulab/anaconda3/lib/python3.6/site-packages/keras/callbacks.py:569: RuntimeWarning: Early stopping conditioned on metric `val_acc` which is not available. Available metrics are: loss,acc\n",
      "  (self.monitor, ','.join(list(logs.keys()))), RuntimeWarning\n",
      "/home/skkulab/anaconda3/lib/python3.6/site-packages/keras/callbacks.py:1109: RuntimeWarning: Reduce LR on plateau conditioned on metric `val_loss` which is not available. Available metrics are: loss,acc,lr\n",
      "  (self.monitor, ','.join(list(logs.keys()))), RuntimeWarning\n"
     ]
    },
    {
     "name": "stdout",
     "output_type": "stream",
     "text": [
      "30/30 [==============================] - 4s 122ms/step - loss: 0.1441 - acc: 0.9401\n",
      "Epoch 3/3\n",
      "30/30 [==============================] - 3s 100ms/step - loss: 0.1305 - acc: 0.9474\n"
     ]
    }
   ],
   "source": [
    "history_ft = ft_model.fit_generator(ft_generator, steps_per_epoch=30, epochs=3,\n",
    "                             callbacks=callback_list, verbose=1)"
   ]
  },
  {
   "cell_type": "markdown",
   "metadata": {},
   "source": [
    "### Siamese model (weight freezed)"
   ]
  },
  {
   "cell_type": "code",
   "execution_count": 14,
   "metadata": {},
   "outputs": [
    {
     "name": "stdout",
     "output_type": "stream",
     "text": [
      "_________________________________________________________________\n",
      "Layer (type)                 Output Shape              Param #   \n",
      "=================================================================\n",
      "input_6 (InputLayer)         (None, 224, 224, 3)       0         \n",
      "_________________________________________________________________\n",
      "model_5 (Model)              (None, 1)                 4802593   \n",
      "=================================================================\n",
      "Total params: 4,802,593\n",
      "Trainable params: 4,097\n",
      "Non-trainable params: 4,798,496\n",
      "_________________________________________________________________\n",
      "__________________________________________________________________________________________________\n",
      "Layer (type)                    Output Shape         Param #     Connected to                     \n",
      "==================================================================================================\n",
      "input_7 (InputLayer)            (None, 224, 224, 3)  0                                            \n",
      "__________________________________________________________________________________________________\n",
      "input_8 (InputLayer)            (None, 224, 224, 3)  0                                            \n",
      "__________________________________________________________________________________________________\n",
      "model_6 (Model)                 (None, 1)            4802593     input_7[0][0]                    \n",
      "                                                                 input_8[0][0]                    \n",
      "__________________________________________________________________________________________________\n",
      "lambda_2 (Lambda)               (None, 1)            0           model_6[1][0]                    \n",
      "                                                                 model_6[2][0]                    \n",
      "==================================================================================================\n",
      "Total params: 4,802,593\n",
      "Trainable params: 4,097\n",
      "Non-trainable params: 4,798,496\n",
      "__________________________________________________________________________________________________\n"
     ]
    }
   ],
   "source": [
    "model = load_model(\"alexnet_95_2.h5\")\n",
    "base_model = Model(img_input, out)\n",
    "base_model.set_weights(model.get_weights())\n",
    "for l in range(len(base_model.layers) - 2):\n",
    "    base_model.layers[l].trainable = False   \n",
    "\n",
    "im_in = Input(shape=(224, 224, 3))\n",
    "x1 = base_model([im_in])\n",
    "\n",
    "model_top = Model(inputs=[im_in], outputs=x1)\n",
    "model_top.summary()\n",
    "\n",
    "left_input = Input(shape=(224, 224, 3))\n",
    "right_input = Input(shape=(224, 224, 3))\n",
    "\n",
    "h1 = model_top(left_input)\n",
    "h2 = model_top(right_input)\n",
    "\n",
    "distance = Lambda(euclidean_distance)([h1, h2])\n",
    "siam_model = Model(inputs=[left_input, right_input], outputs=distance)\n",
    "siam_model.compile(loss='mse', optimizer=SGD(0.001), metrics=['acc'])\n",
    "siam_model.summary()"
   ]
  },
  {
   "cell_type": "code",
   "execution_count": 17,
   "metadata": {},
   "outputs": [],
   "source": [
    "train_gen = generator(ft_dir)\n",
    "test_gen = generator_res(ft_dir, test_dir, 1)"
   ]
  },
  {
   "cell_type": "code",
   "execution_count": 19,
   "metadata": {},
   "outputs": [
    {
     "name": "stdout",
     "output_type": "stream",
     "text": [
      "Epoch 1/3\n",
      "15/15 [==============================] - 16s 1s/step - loss: 0.1227 - acc: 0.8417\n",
      "Epoch 2/3\n"
     ]
    },
    {
     "name": "stderr",
     "output_type": "stream",
     "text": [
      "/home/skkulab/anaconda3/lib/python3.6/site-packages/keras/callbacks.py:569: RuntimeWarning: Early stopping conditioned on metric `val_siamese_acc` which is not available. Available metrics are: loss,acc\n",
      "  (self.monitor, ','.join(list(logs.keys()))), RuntimeWarning\n",
      "/home/skkulab/anaconda3/lib/python3.6/site-packages/keras/callbacks.py:1109: RuntimeWarning: Reduce LR on plateau conditioned on metric `val_loss` which is not available. Available metrics are: loss,acc,lr\n",
      "  (self.monitor, ','.join(list(logs.keys()))), RuntimeWarning\n"
     ]
    },
    {
     "name": "stdout",
     "output_type": "stream",
     "text": [
      "15/15 [==============================] - 11s 725ms/step - loss: 0.1153 - acc: 0.8661\n",
      "Epoch 3/3\n",
      "15/15 [==============================] - 9s 631ms/step - loss: 0.1139 - acc: 0.8557\n"
     ]
    }
   ],
   "source": [
    "callback_list = [EarlyStopping(monitor='acc', patience=3),\n",
    "                 ReduceLROnPlateau(monitor='loss', factor=0.1, patience=2)]\n",
    "output = siam_model.fit_generator(train_gen, steps_per_epoch=40, epochs=3,callbacks=callback_list)"
   ]
  },
  {
   "cell_type": "markdown",
   "metadata": {},
   "source": [
    "### Evaluate pre-trained model"
   ]
  },
  {
   "cell_type": "code",
   "execution_count": 20,
   "metadata": {},
   "outputs": [
    {
     "name": "stdout",
     "output_type": "stream",
     "text": [
      "test acc: 0.995370893052002\n",
      "test_loss: 0.0390477665403808\n"
     ]
    }
   ],
   "source": [
    "model = load_model(\"alexnet_95.h5\")"
   ]
  },
  {
   "cell_type": "code",
   "execution_count": 21,
   "metadata": {
    "collapsed": true
   },
   "outputs": [],
   "source": [
    "predictions = model.predict_generator(test_generator, steps=len(test_generator))\n",
    "y_pred = predictions.copy()"
   ]
  },
  {
   "cell_type": "code",
   "execution_count": 22,
   "metadata": {
    "collapsed": true
   },
   "outputs": [],
   "source": [
    "predictions[predictions > 0.5] = 1\n",
    "predictions[predictions <= 0.5] = 0"
   ]
  },
  {
   "cell_type": "code",
   "execution_count": 23,
   "metadata": {
    "collapsed": true
   },
   "outputs": [],
   "source": [
    "predictions[np.isnan(predictions)] = 0"
   ]
  },
  {
   "cell_type": "code",
   "execution_count": 24,
   "metadata": {
    "collapsed": true
   },
   "outputs": [],
   "source": [
    "true_classes = test_generator.classes"
   ]
  },
  {
   "cell_type": "code",
   "execution_count": 25,
   "metadata": {
    "scrolled": true
   },
   "outputs": [
    {
     "name": "stdout",
     "output_type": "stream",
     "text": [
      "              precision    recall  f1-score   support\n",
      "\n",
      "           0       0.07      0.06      0.06       999\n",
      "           1       0.94      0.95      0.95     16715\n",
      "\n",
      "    accuracy                           0.90     17714\n",
      "   macro avg       0.51      0.51      0.51     17714\n",
      "weighted avg       0.89      0.90      0.90     17714\n",
      "\n"
     ]
    }
   ],
   "source": [
    "report = metrics.classification_report(true_classes, predictions)\n",
    "print(report)"
   ]
  },
  {
   "cell_type": "code",
   "execution_count": 26,
   "metadata": {},
   "outputs": [
    {
     "name": "stdout",
     "output_type": "stream",
     "text": [
      "[[   63   936]\n",
      " [  883 15832]]\n"
     ]
    },
    {
     "data": {
      "image/png": "iVBORw0KGgoAAAANSUhEUgAAAYIAAAEGCAYAAABo25JHAAAABHNCSVQICAgIfAhkiAAAAAlwSFlz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\nP/ZWqrE237BgAAAAAElFTkSuQmCC\n",
      "text/plain": [
       "<Figure size 432x288 with 1 Axes>"
      ]
     },
     "metadata": {},
     "output_type": "display_data"
    },
    {
     "data": {
      "text/plain": [
       "0.505118130394828"
      ]
     },
     "execution_count": 26,
     "metadata": {},
     "output_type": "execute_result"
    }
   ],
   "source": [
    "fpr, tpr, thresholds = roc_curve(true_classes, y_pred, pos_label=1.)\n",
    "cm = confusion_matrix(true_classes, predictions)\n",
    "print(cm)\n",
    "recall1 = cm[0][0] / (cm[0][0] + cm[0][1])\n",
    "fallout1 = cm[1][0] / (cm[1][0] + cm[1][1])\n",
    "eer = brentq(lambda x : 1. - x - interp1d(fpr, tpr)(x), 0., 1.)\n",
    "thresh = interp1d(fpr, thresholds)(eer)\n",
    "\n",
    "plt.plot(fpr, tpr, 'o-')\n",
    "plt.plot([0, 1], [0, 1], 'k--', label=\"random guess\")\n",
    "\n",
    "plt.xlabel('False Positive Rate (Fall-Out)')\n",
    "plt.ylabel('True Positive Rate (Recall)')\n",
    "plt.show()\n",
    "\n",
    "roc_auc_score(true_classes, predictions)"
   ]
  },
  {
   "cell_type": "code",
   "execution_count": 28,
   "metadata": {},
   "outputs": [
    {
     "name": "stdout",
     "output_type": "stream",
     "text": [
      "FPR=FAR 0.05282680227340712\n",
      "FNR=FRR 0.9369369369369369\n"
     ]
    }
   ],
   "source": [
    "print(\"FPR=FAR\", fallout1)\n",
    "print(\"FNR=FRR\", 1-recall1)"
   ]
  },
  {
   "cell_type": "code",
   "execution_count": 29,
   "metadata": {},
   "outputs": [
    {
     "data": {
      "text/plain": [
       "0.4974974974973568"
      ]
     },
     "execution_count": 29,
     "metadata": {},
     "output_type": "execute_result"
    }
   ],
   "source": [
    "eer"
   ]
  },
  {
   "cell_type": "code",
   "execution_count": 30,
   "metadata": {},
   "outputs": [
    {
     "data": {
      "text/plain": [
       "array(0.97721374)"
      ]
     },
     "execution_count": 30,
     "metadata": {},
     "output_type": "execute_result"
    }
   ],
   "source": [
    "thresh"
   ]
  },
  {
   "cell_type": "code",
   "execution_count": null,
   "metadata": {
    "collapsed": true
   },
   "outputs": [],
   "source": [
    "test_loss, test_acc = model.evaluate_generator(test_generator, steps=len(test_generator))\n",
    "print('test acc:', test_acc)\n",
    "print('test_loss:', test_loss)"
   ]
  },
  {
   "cell_type": "markdown",
   "metadata": {},
   "source": [
    "### Evaluate siamese model"
   ]
  },
  {
   "cell_type": "code",
   "execution_count": 31,
   "metadata": {
    "scrolled": true
   },
   "outputs": [
    {
     "name": "stderr",
     "output_type": "stream",
     "text": [
      "17566it [02:51, 102.30it/s]\n"
     ]
    }
   ],
   "source": [
    "score = []\n",
    "answer = []\n",
    "max_iter = int(20000)\n",
    "j = 0\n",
    "for i in tqdm(test_gen):\n",
    "    y_score = siam_model.predict_on_batch(i[0])\n",
    "    score.append(y_score)\n",
    "    answer.append(i[1])\n",
    "    j += 1"
   ]
  },
  {
   "cell_type": "code",
   "execution_count": 40,
   "metadata": {
    "collapsed": true
   },
   "outputs": [],
   "source": [
    "score = np.concatenate(score)\n",
    "answer = np.concatenate(answer)"
   ]
  },
  {
   "cell_type": "code",
   "execution_count": 41,
   "metadata": {},
   "outputs": [
    {
     "name": "stdout",
     "output_type": "stream",
     "text": [
      "0.9861968095109376\n",
      "              precision    recall  f1-score   support\n",
      "\n",
      "         0.0       0.81      0.97      0.88       851\n",
      "         1.0       1.00      0.99      0.99     16715\n",
      "\n",
      "    accuracy                           0.99     17566\n",
      "   macro avg       0.90      0.98      0.94     17566\n",
      "weighted avg       0.99      0.99      0.99     17566\n",
      "\n",
      "[[  823    28]\n",
      " [  195 16520]]\n"
     ]
    }
   ],
   "source": [
    "fpr, tpr, thresholds = roc_curve(answer, score, pos_label=1.)\n",
    "print(roc_auc_score(answer, score))\n",
    "y_hat = score.copy()\n",
    "y_hat[y_hat >= 0.8] = 1.\n",
    "y_hat[y_hat < 0.8] = 0.\n",
    "print(metrics.classification_report(answer, y_hat))\n",
    "print(confusion_matrix(answer, y_hat))\n",
    "eer = brentq(lambda x : 1. - x - interp1d(fpr, tpr)(x), 0., 1.)\n",
    "thresh = interp1d(fpr, thresholds)(eer)"
   ]
  },
  {
   "cell_type": "code",
   "execution_count": 42,
   "metadata": {},
   "outputs": [
    {
     "data": {
      "image/png": "iVBORw0KGgoAAAANSUhEUgAAAUoAAAEWCAYAAAAAZd6JAAAABHNCSVQICAgIfAhkiAAAAAlwSFlz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\n/h+AfoMANqFQ6gAAAABJRU5ErkJggg==\n",
      "text/plain": [
       "<Figure size 360x288 with 1 Axes>"
      ]
     },
     "metadata": {},
     "output_type": "display_data"
    }
   ],
   "source": [
    "cm = confusion_matrix(answer, y_hat)\n",
    "recall = cm[0][0] / (cm[0][0] + cm[0][1])\n",
    "fallout = cm[1][0] / (cm[1][0] + cm[1][1])\n",
    "fpr2, tpr2, thresholds2 = roc_curve(true_classes, y_pred, pos_label=1.)\n",
    "\n",
    "plt.figure(figsize=(5,4))\n",
    "plt.plot(fpr, tpr, 'r-', label=\"Siamese(Ours)\")\n",
    "plt.plot(fpr2, tpr2, 'b-', label=\"AlexNet\")\n",
    "plt.plot([0, 1], [0, 1], 'k--', label=\"random guess\")\n",
    "plt.plot([fallout], [recall], 'ro', ms=10)\n",
    "plt.plot([fallout1], [recall1], 'bo', ms=10)\n",
    "plt.xlabel('False Positive Rate (Fall-Out)')\n",
    "plt.ylabel('True Positive Rate (Recall)')\n",
    "plt.title(\"Best AUROC: %.3f / Model: Ours\" %(roc_auc_score(answer, score)))\n",
    "plt.legend(loc='lower right')\n",
    "plt.annotate(\"%.3f: AlexNet\" %(roc_auc_score(true_classes, y_pred)), xy=(0.0, 0.98), xytext=(0.15, 0.75), arrowprops={'color':'blue'})\n",
    "plt.annotate(\"%.3f: Ours\" %(roc_auc_score(answer, score)), xy=(0.0, 0.99), xytext=(0.15, 0.9), arrowprops={'color':'red'})\n",
    "plt.show()"
   ]
  },
  {
   "cell_type": "code",
   "execution_count": 43,
   "metadata": {},
   "outputs": [
    {
     "name": "stdout",
     "output_type": "stream",
     "text": [
      "FPR=FAR 0.011666168112473826\n",
      "FNR=FRR 0.03290246768507643\n"
     ]
    }
   ],
   "source": [
    "print(\"FPR=FAR\", fallout)\n",
    "print(\"FNR=FRR\", 1-recall)"
   ]
  },
  {
   "cell_type": "code",
   "execution_count": 44,
   "metadata": {},
   "outputs": [
    {
     "data": {
      "text/plain": [
       "0.026554328259642324"
      ]
     },
     "execution_count": 44,
     "metadata": {},
     "output_type": "execute_result"
    }
   ],
   "source": [
    "eer"
   ]
  },
  {
   "cell_type": "code",
   "execution_count": 45,
   "metadata": {},
   "outputs": [
    {
     "data": {
      "text/plain": [
       "array(0.8751282)"
      ]
     },
     "execution_count": 45,
     "metadata": {},
     "output_type": "execute_result"
    }
   ],
   "source": [
    "thresh"
   ]
  },
  {
   "cell_type": "code",
   "execution_count": 46,
   "metadata": {},
   "outputs": [
    {
     "data": {
      "text/plain": [
       "0.987305021063418"
      ]
     },
     "execution_count": 46,
     "metadata": {},
     "output_type": "execute_result"
    }
   ],
   "source": [
    "len(y_hat[np.equal(y_hat, answer)]) / len(y_hat)"
   ]
  },
  {
   "cell_type": "markdown",
   "metadata": {},
   "source": [
    "### Draw plot"
   ]
  },
  {
   "cell_type": "code",
   "execution_count": 47,
   "metadata": {},
   "outputs": [
    {
     "data": {
      "image/png": "iVBORw0KGgoAAAANSUhEUgAAAXQAAAEICAYAAABPgw/pAAAABHNCSVQICAgIfAhkiAAAAAlwSFlz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\nux3SaQAAAABJRU5ErkJggg==\n",
      "text/plain": [
       "<Figure size 432x288 with 1 Axes>"
      ]
     },
     "metadata": {},
     "output_type": "display_data"
    },
    {
     "data": {
      "image/png": "iVBORw0KGgoAAAANSUhEUgAAAXQAAAEICAYAAABPgw/pAAAABHNCSVQICAgIfAhkiAAAAAlwSFlz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\n4H3UwxsAAAAASUVORK5CYII=\n",
      "text/plain": [
       "<Figure size 432x288 with 1 Axes>"
      ]
     },
     "metadata": {},
     "output_type": "display_data"
    }
   ],
   "source": [
    "acc = history.history['acc']\n",
    "val_acc = history.history['val_acc']\n",
    "loss = history.history['loss']\n",
    "val_loss = history.history['val_loss']\n",
    "\n",
    "epochs = range(len(acc))\n",
    "\n",
    "plt.plot(epochs, acc, 'bo', label='Training acc')\n",
    "plt.plot(epochs, val_acc, 'b', label='Validation acc')\n",
    "plt.title('Training and validation accuracy')\n",
    "plt.legend()\n",
    "\n",
    "plt.figure()\n",
    "\n",
    "plt.plot(epochs, loss, 'bo', label='Training loss')\n",
    "plt.plot(epochs, val_loss, 'b', label='Validation loss')\n",
    "plt.title('Training and validation loss')\n",
    "plt.legend()\n",
    "\n",
    "plt.show()\n",
    "plt.savefig('/home/skkulab/ICCV/models//xcetion_v1.png')"
   ]
  },
  {
   "cell_type": "markdown",
   "metadata": {},
   "source": [
    "### Model train(weight unfreezed)"
   ]
  },
  {
   "cell_type": "code",
   "execution_count": null,
   "metadata": {
    "collapsed": true
   },
   "outputs": [],
   "source": [
    "for layer in base_model.layers:\n",
    "    layer.trainable = True\n",
    "\n",
    "\n",
    "model.compile(optimizer=Adam(lr=learn_rate),\n",
    "              loss='binary_crossentropy',\n",
    "              metrics=['accuracy'])\n",
    "\n",
    "print(len(model.trainable_weights))"
   ]
  },
  {
   "cell_type": "code",
   "execution_count": null,
   "metadata": {
    "collapsed": true
   },
   "outputs": [],
   "source": [
    "history = model.fit_generator(train_generator,\n",
    "                             steps_per_epoch=len(train_generator),\n",
    "                             epochs=nb_epoch,\n",
    "                             validation_data=validation_generator,\n",
    "                             validation_steps=len(validation_generator),\n",
    "                             verbose=1)"
   ]
  },
  {
   "cell_type": "code",
   "execution_count": null,
   "metadata": {
    "collapsed": true
   },
   "outputs": [],
   "source": [
    "model.save('/home/skkulab/ICCV/models/xception_v2.h5')"
   ]
  },
  {
   "cell_type": "markdown",
   "metadata": {},
   "source": [
    "### Draw plot"
   ]
  },
  {
   "cell_type": "code",
   "execution_count": null,
   "metadata": {
    "collapsed": true
   },
   "outputs": [],
   "source": [
    "acc = history.history['acc']\n",
    "val_acc = history.history['val_acc']\n",
    "loss = history.history['loss']\n",
    "val_loss = history.history['val_loss']\n",
    "\n",
    "epochs = range(len(acc))\n",
    "\n",
    "plt.plot(epochs, acc, 'bo', label='Training acc')\n",
    "plt.plot(epochs, val_acc, 'b', label='Validation acc')\n",
    "plt.title('Training and validation accuracy')\n",
    "plt.legend()\n",
    "\n",
    "plt.figure()\n",
    "\n",
    "plt.plot(epochs, loss, 'bo', label='Training loss')\n",
    "plt.plot(epochs, val_loss, 'b', label='Validation loss')\n",
    "plt.title('Training and validation loss')\n",
    "plt.legend()\n",
    "\n",
    "plt.show()"
   ]
  },
  {
   "cell_type": "markdown",
   "metadata": {},
   "source": [
    "### Load trained model"
   ]
  },
  {
   "cell_type": "code",
   "execution_count": null,
   "metadata": {
    "collapsed": true,
    "scrolled": true
   },
   "outputs": [],
   "source": [
    "loaded_model = load_model('/home/skkulab/ICCV/models/xception_v1.h5')\n",
    "loaded_model.summary()"
   ]
  },
  {
   "cell_type": "markdown",
   "metadata": {},
   "source": [
    "### Preparing test data"
   ]
  },
  {
   "cell_type": "code",
   "execution_count": null,
   "metadata": {
    "collapsed": true
   },
   "outputs": [],
   "source": [
    "test_generator = test_datagen.flow_from_directory(test_dir,\n",
    "                                                  target_size=(img_height, img_width),\n",
    "                                                  batch_size=batch_size,\n",
    "                                                  shuffle=False,\n",
    "                                                  class_mode='binary')"
   ]
  },
  {
   "cell_type": "code",
   "execution_count": null,
   "metadata": {
    "collapsed": true
   },
   "outputs": [],
   "source": [
    "test_loss, test_acc = loaded_model.evaluate_generator(test_generator, steps=len(test_generator))\n",
    "print('test acc:', test_acc)\n",
    "print('test_loss:', test_loss)"
   ]
  },
  {
   "cell_type": "code",
   "execution_count": null,
   "metadata": {
    "collapsed": true
   },
   "outputs": [],
   "source": [
    "predictions = loaded_"
   ]
  }
 ],
 "metadata": {
  "kernelspec": {
   "display_name": "Python 3",
   "language": "python",
   "name": "python3"
  },
  "language_info": {
   "codemirror_mode": {
    "name": "ipython",
    "version": 3
   },
   "file_extension": ".py",
   "mimetype": "text/x-python",
   