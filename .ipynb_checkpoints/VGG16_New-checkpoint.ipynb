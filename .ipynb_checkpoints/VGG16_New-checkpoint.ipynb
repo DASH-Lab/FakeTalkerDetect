{
 "cells": [
  {
   "cell_type": "code",
   "execution_count": 1,
   "metadata": {},
   "outputs": [
    {
     "name": "stderr",
     "output_type": "stream",
     "text": [
      "/home/skkulab/anaconda3/lib/python3.6/site-packages/h5py/__init__.py:36: FutureWarning: Conversion of the second argument of issubdtype from `float` to `np.floating` is deprecated. In future, it will be treated as `np.float64 == np.dtype(float).type`.\n",
      "  from ._conv import register_converters as _register_converters\n",
      "Using TensorFlow backend.\n"
     ]
    }
   ],
   "source": [
    "import os\n",
    "import tensorflow as tf\n",
    "from keras import backend as K\n",
    "os.environ[\"CUDA_VISIBLE_DEVICES\"] = '0,1'\n",
    "config = tf.ConfigProto()\n",
    "config.gpu_options.allow_growth = True\n",
    "sess = tf.Session(config=config)\n",
    "K.set_session(sess)\n",
    "\n",
    "from keras.applications import VGG16\n",
    "from keras.layers import Dense, Flatten\n",
    "from keras.models import Model\n",
    "from keras.preprocessing.image import ImageDataGenerator\n",
    "from keras.optimizers import Adam"
   ]
  },
  {
   "cell_type": "code",
   "execution_count": 2,
   "metadata": {
    "collapsed": true
   },
   "outputs": [],
   "source": [
    "nb_classes = 1  # number of classes\n",
    "img_width, img_height = 224, 224  # change based on the shape/structure of your images\n",
    "batch_size = 32  # try 4, 8, 16, 32, 64, 128, 256 dependent on CPU/GPU memory capacity (powers of 2 values).\n",
    "nb_epoch = 50  # number of iteration the algorithm gets trained.\n",
    "learn_rate = 1e-5  # sgd learning rate\n",
    "\n",
    "train_dir = '/home/skkulab/ICCV/Dataset/preprocessed_dataset/train'\n",
    "validation_dir = '/home/skkulab/ICCV/Dataset/preprocessed_dataset/validation'\n",
    "test_dir = '/home/skkulab/ICCV/Dataset/preprocessed_dataset/test'"
   ]
  },
  {
   "cell_type": "markdown",
   "metadata": {},
   "source": [
    "### VGG16 Model"
   ]
  },
  {
   "cell_type": "code",
   "execution_count": 19,
   "metadata": {
    "scrolled": true
   },
   "outputs": [],
   "source": [
    "base_model = VGG16(weights='imagenet', include_top=False, input_shape=(img_height, img_width, 3))"
   ]
  },
  {
   "cell_type": "code",
   "execution_count": 20,
   "metadata": {
    "scrolled": true
   },
   "outputs": [
    {
     "name": "stdout",
     "output_type": "stream",
     "text": [
      "_________________________________________________________________\n",
      "Layer (type)                 Output Shape              Param #   \n",
      "=================================================================\n",
      "input_2 (InputLayer)         (None, 224, 224, 3)       0         \n",
      "_________________________________________________________________\n",
      "block1_conv1 (Conv2D)        (None, 224, 224, 64)      1792      \n",
      "_________________________________________________________________\n",
      "block1_conv2 (Conv2D)        (None, 224, 224, 64)      36928     \n",
      "_________________________________________________________________\n",
      "block1_pool (MaxPooling2D)   (None, 112, 112, 64)      0         \n",
      "_________________________________________________________________\n",
      "block2_conv1 (Conv2D)        (None, 112, 112, 128)     73856     \n",
      "_________________________________________________________________\n",
      "block2_conv2 (Conv2D)        (None, 112, 112, 128)     147584    \n",
      "_________________________________________________________________\n",
      "block2_pool (MaxPooling2D)   (None, 56, 56, 128)       0         \n",
      "_________________________________________________________________\n",
      "block3_conv1 (Conv2D)        (None, 56, 56, 256)       295168    \n",
      "_________________________________________________________________\n",
      "block3_conv2 (Conv2D)        (None, 56, 56, 256)       590080    \n",
      "_________________________________________________________________\n",
      "block3_conv3 (Conv2D)        (None, 56, 56, 256)       590080    \n",
      "_________________________________________________________________\n",
      "block3_pool (MaxPooling2D)   (None, 28, 28, 256)       0         \n",
      "_________________________________________________________________\n",
      "block4_conv1 (Conv2D)        (None, 28, 28, 512)       1180160   \n",
      "_________________________________________________________________\n",
      "block4_conv2 (Conv2D)        (None, 28, 28, 512)       2359808   \n",
      "_________________________________________________________________\n",
      "block4_conv3 (Conv2D)        (None, 28, 28, 512)       2359808   \n",
      "_________________________________________________________________\n",
      "block4_pool (MaxPooling2D)   (None, 14, 14, 512)       0         \n",
      "_________________________________________________________________\n",
      "block5_conv1 (Conv2D)        (None, 14, 14, 512)       2359808   \n",
      "_________________________________________________________________\n",
      "block5_conv2 (Conv2D)        (None, 14, 14, 512)       2359808   \n",
      "_________________________________________________________________\n",
      "block5_conv3 (Conv2D)        (None, 14, 14, 512)       2359808   \n",
      "_________________________________________________________________\n",
      "block5_pool (MaxPooling2D)   (None, 7, 7, 512)         0         \n",
      "_________________________________________________________________\n",
      "flatten_2 (Flatten)          (None, 25088)             0         \n",
      "_________________________________________________________________\n",
      "dense_2 (Dense)              (None, 1)                 25089     \n",
      "=================================================================\n",
      "Total params: 14,739,777\n",
      "Trainable params: 14,739,777\n",
      "Non-trainable params: 0\n",
      "_________________________________________________________________\n",
      "None\n"
     ]
    }
   ],
   "source": [
    "# Add fully conncted layer\n",
    "x = base_model.output\n",
    "x = Flatten()(x)\n",
    "x = Dense(nb_classes, activation='sigmoid')(x)\n",
    "\n",
    "model = Model(base_model.input, x)\n",
    "print(model.summary())"
   ]
  },
  {
   "cell_type": "markdown",
   "metadata": {},
   "source": [
    "### Preparing data"
   ]
  },
  {
   "cell_type": "code",
   "execution_count": 5,
   "metadata": {},
   "outputs": [
    {
     "name": "stdout",
     "output_type": "stream",
     "text": [
      "Found 20416 images belonging to 2 classes.\n",
      "Found 4712 images belonging to 2 classes.\n"
     ]
    }
   ],
   "source": [
    "train_datagen = ImageDataGenerator(rescale=1./255)\n",
    "test_datagen = ImageDataGenerator(rescale=1./255)\n",
    "\n",
    "train_generator = train_datagen.flow_from_directory(train_dir,\n",
    "                                                    target_size=(img_height, img_width),\n",
    "                                                    batch_size=batch_size,\n",
    "                                                    shuffle=False,\n",
    "                                                    class_mode='binary')\n",
    "\n",
    "validation_generator = test_datagen.flow_from_directory(validation_dir,\n",
    "                                                        target_size=(img_height, img_width),\n",
    "                                                        batch_size=batch_size,\n",
    "                                                        shuffle=False,\n",
    "                                                        class_mode='binary')"
   ]
  },
  {
   "cell_type": "markdown",
   "metadata": {},
   "source": [
    "### Train model(weight freezed)"
   ]
  },
  {
   "cell_type": "code",
   "execution_count": 6,
   "metadata": {},
   "outputs": [
    {
     "name": "stdout",
     "output_type": "stream",
     "text": [
      "2\n"
     ]
    }
   ],
   "source": [
    "for layer in base_model.layers:\n",
    "    layer.trainable = False\n",
    "\n",
    "model.compile(optimizer=Adam(lr=learn_rate),\n",
    "              loss='binary_crossentropy',\n",
    "              metrics=['accuracy'])\n",
    "\n",
    "print(len(model.trainable_weights))"
   ]
  },
  {
   "cell_type": "code",
   "execution_count": 7,
   "metadata": {
    "scrolled": true
   },
   "outputs": [
    {
     "name": "stdout",
     "output_type": "stream",
     "text": [
      "WARNING:tensorflow:From /home/skkulab/anaconda3/lib/python3.6/site-packages/tensorflow/python/ops/math_ops.py:3066: to_int32 (from tensorflow.python.ops.math_ops) is deprecated and will be removed in a future version.\n",
      "Instructions for updating:\n",
      "Use tf.cast instead.\n",
      "Epoch 1/50\n",
      "638/638 [==============================] - 92s 144ms/step - loss: 0.3077 - acc: 0.9172 - val_loss: 1.4285 - val_acc: 0.5000\n",
      "Epoch 2/50\n",
      "638/638 [==============================] - 87s 137ms/step - loss: 0.3113 - acc: 0.8751 - val_loss: 0.9687 - val_acc: 0.5000\n",
      "Epoch 3/50\n",
      "638/638 [==============================] - 88s 137ms/step - loss: 0.2113 - acc: 0.9103 - val_loss: 0.7291 - val_acc: 0.5180\n",
      "Epoch 4/50\n",
      "638/638 [==============================] - 89s 139ms/step - loss: 0.1601 - acc: 0.9379 - val_loss: 0.5905 - val_acc: 0.6263\n",
      "Epoch 5/50\n",
      "638/638 [==============================] - 89s 139ms/step - loss: 0.1287 - acc: 0.9576 - val_loss: 0.5018 - val_acc: 0.7037\n",
      "Epoch 6/50\n",
      "638/638 [==============================] - 88s 138ms/step - loss: 0.1065 - acc: 0.9690 - val_loss: 0.4396 - val_acc: 0.7532\n",
      "Epoch 7/50\n",
      "638/638 [==============================] - 89s 140ms/step - loss: 0.0896 - acc: 0.9766 - val_loss: 0.3925 - val_acc: 0.7844\n",
      "Epoch 8/50\n",
      "638/638 [==============================] - 89s 139ms/step - loss: 0.0763 - acc: 0.9817 - val_loss: 0.3545 - val_acc: 0.8126\n",
      "Epoch 9/50\n",
      "638/638 [==============================] - 89s 139ms/step - loss: 0.0654 - acc: 0.9854 - val_loss: 0.3224 - val_acc: 0.8383\n",
      "Epoch 10/50\n",
      "638/638 [==============================] - 90s 141ms/step - loss: 0.0566 - acc: 0.9880 - val_loss: 0.2944 - val_acc: 0.8612\n",
      "Epoch 11/50\n",
      "638/638 [==============================] - 89s 140ms/step - loss: 0.0492 - acc: 0.9902 - val_loss: 0.2695 - val_acc: 0.8778\n",
      "Epoch 12/50\n",
      "638/638 [==============================] - 88s 138ms/step - loss: 0.0431 - acc: 0.9915 - val_loss: 0.2470 - val_acc: 0.8886\n",
      "Epoch 13/50\n",
      "638/638 [==============================] - 89s 140ms/step - loss: 0.0379 - acc: 0.9926 - val_loss: 0.2265 - val_acc: 0.8975\n",
      "Epoch 14/50\n",
      "638/638 [==============================] - 89s 139ms/step - loss: 0.0335 - acc: 0.9932 - val_loss: 0.2077 - val_acc: 0.9092\n",
      "Epoch 15/50\n",
      "638/638 [==============================] - 88s 139ms/step - loss: 0.0298 - acc: 0.9943 - val_loss: 0.1905 - val_acc: 0.9196\n",
      "Epoch 16/50\n",
      "638/638 [==============================] - 89s 139ms/step - loss: 0.0266 - acc: 0.9949 - val_loss: 0.1747 - val_acc: 0.9310\n",
      "Epoch 17/50\n",
      "638/638 [==============================] - 88s 137ms/step - loss: 0.0238 - acc: 0.9957 - val_loss: 0.1601 - val_acc: 0.9399\n",
      "Epoch 18/50\n",
      "638/638 [==============================] - 88s 139ms/step - loss: 0.0214 - acc: 0.9961 - val_loss: 0.1468 - val_acc: 0.9461\n",
      "Epoch 19/50\n",
      "638/638 [==============================] - 89s 140ms/step - loss: 0.0194 - acc: 0.9967 - val_loss: 0.1346 - val_acc: 0.9535\n",
      "Epoch 20/50\n",
      "638/638 [==============================] - 87s 137ms/step - loss: 0.0175 - acc: 0.9971 - val_loss: 0.1234 - val_acc: 0.9599\n",
      "Epoch 21/50\n",
      "638/638 [==============================] - 88s 138ms/step - loss: 0.0159 - acc: 0.9973 - val_loss: 0.1131 - val_acc: 0.9665\n",
      "Epoch 22/50\n",
      "638/638 [==============================] - 88s 138ms/step - loss: 0.0145 - acc: 0.9975 - val_loss: 0.1037 - val_acc: 0.9703\n",
      "Epoch 23/50\n",
      "638/638 [==============================] - 88s 137ms/step - loss: 0.0132 - acc: 0.9978 - val_loss: 0.0951 - val_acc: 0.9739\n",
      "Epoch 24/50\n",
      "638/638 [==============================] - 89s 139ms/step - loss: 0.0121 - acc: 0.9978 - val_loss: 0.0872 - val_acc: 0.9760\n",
      "Epoch 25/50\n",
      "638/638 [==============================] - 88s 138ms/step - loss: 0.0111 - acc: 0.9980 - val_loss: 0.0800 - val_acc: 0.9779\n",
      "Epoch 26/50\n",
      "638/638 [==============================] - 87s 137ms/step - loss: 0.0102 - acc: 0.9982 - val_loss: 0.0734 - val_acc: 0.9805\n",
      "Epoch 27/50\n",
      "638/638 [==============================] - 88s 138ms/step - loss: 0.0093 - acc: 0.9983 - val_loss: 0.0674 - val_acc: 0.9830\n",
      "Epoch 28/50\n",
      "638/638 [==============================] - 89s 139ms/step - loss: 0.0086 - acc: 0.9984 - val_loss: 0.0619 - val_acc: 0.9860\n",
      "Epoch 29/50\n",
      "638/638 [==============================] - 88s 138ms/step - loss: 0.0079 - acc: 0.9986 - val_loss: 0.0568 - val_acc: 0.9873\n",
      "Epoch 30/50\n",
      "638/638 [==============================] - 88s 137ms/step - loss: 0.0073 - acc: 0.9987 - val_loss: 0.0522 - val_acc: 0.9892\n",
      "Epoch 31/50\n",
      "638/638 [==============================] - 88s 138ms/step - loss: 0.0068 - acc: 0.9988 - val_loss: 0.0481 - val_acc: 0.9907\n",
      "Epoch 32/50\n",
      "638/638 [==============================] - 89s 139ms/step - loss: 0.0063 - acc: 0.9990 - val_loss: 0.0442 - val_acc: 0.9921\n",
      "Epoch 33/50\n",
      "638/638 [==============================] - 90s 140ms/step - loss: 0.0058 - acc: 0.9992 - val_loss: 0.0407 - val_acc: 0.9934\n",
      "Epoch 34/50\n",
      "638/638 [==============================] - 87s 137ms/step - loss: 0.0054 - acc: 0.9994 - val_loss: 0.0376 - val_acc: 0.9941\n",
      "Epoch 35/50\n",
      "638/638 [==============================] - 88s 139ms/step - loss: 0.0050 - acc: 0.9994 - val_loss: 0.0347 - val_acc: 0.9945\n",
      "Epoch 36/50\n",
      "638/638 [==============================] - 89s 139ms/step - loss: 0.0046 - acc: 0.9995 - val_loss: 0.0320 - val_acc: 0.9949\n",
      "Epoch 37/50\n",
      "638/638 [==============================] - 89s 139ms/step - loss: 0.0043 - acc: 0.9995 - val_loss: 0.0296 - val_acc: 0.9955\n",
      "Epoch 38/50\n",
      "638/638 [==============================] - 89s 139ms/step - loss: 0.0040 - acc: 0.9996 - val_loss: 0.0273 - val_acc: 0.9962\n",
      "Epoch 39/50\n",
      "638/638 [==============================] - 89s 140ms/step - loss: 0.0037 - acc: 0.9996 - val_loss: 0.0253 - val_acc: 0.9964\n",
      "Epoch 40/50\n",
      "638/638 [==============================] - 88s 138ms/step - loss: 0.0035 - acc: 0.9997 - val_loss: 0.0235 - val_acc: 0.9968\n",
      "Epoch 41/50\n",
      "638/638 [==============================] - 89s 139ms/step - loss: 0.0032 - acc: 0.9997 - val_loss: 0.0218 - val_acc: 0.9975\n",
      "Epoch 42/50\n",
      "638/638 [==============================] - 88s 138ms/step - loss: 0.0030 - acc: 0.9998 - val_loss: 0.0202 - val_acc: 0.9979\n",
      "Epoch 43/50\n",
      "638/638 [==============================] - 87s 137ms/step - loss: 0.0028 - acc: 0.9999 - val_loss: 0.0188 - val_acc: 0.9981\n",
      "Epoch 44/50\n",
      "638/638 [==============================] - 88s 139ms/step - loss: 0.0026 - acc: 0.9999 - val_loss: 0.0174 - val_acc: 0.9981\n",
      "Epoch 45/50\n",
      "638/638 [==============================] - 88s 138ms/step - loss: 0.0025 - acc: 0.9999 - val_loss: 0.0162 - val_acc: 0.9983\n",
      "Epoch 46/50\n",
      "638/638 [==============================] - 88s 139ms/step - loss: 0.0023 - acc: 0.9999 - val_loss: 0.0151 - val_acc: 0.9983\n",
      "Epoch 47/50\n",
      "638/638 [==============================] - 89s 139ms/step - loss: 0.0021 - acc: 0.9999 - val_loss: 0.0141 - val_acc: 0.9985\n",
      "Epoch 48/50\n",
      "638/638 [==============================] - 89s 139ms/step - loss: 0.0020 - acc: 1.0000 - val_loss: 0.0131 - val_acc: 0.9985\n",
      "Epoch 49/50\n",
      "638/638 [==============================] - 88s 139ms/step - loss: 0.0019 - acc: 1.0000 - val_loss: 0.0122 - val_acc: 0.9985\n",
      "Epoch 50/50\n",
      "638/638 [==============================] - 88s 139ms/step - loss: 0.0017 - acc: 1.0000 - val_loss: 0.0114 - val_acc: 0.9985\n"
     ]
    }
   ],
   "source": [
    "history = model.fit_generator(train_generator,\n",
    "                             steps_per_epoch=len(train_generator),\n",
    "                             epochs=nb_epoch,\n",
    "                             validation_data=validation_generator,\n",
    "                             validation_steps=len(validation_generator),\n",
    "                             verbose=1)"
   ]
  },
  {
   "cell_type": "code",
   "execution_count": 9,
   "metadata": {},
   "outputs": [],
   "source": [
    "model.save('/home/skkulab/ICCV/models/vgg16_v1.h5')"
   ]
  },
  {
   "cell_type": "markdown",
   "metadata": {},
   "source": [
    "### Draw plot"
   ]
  },
  {
   "cell_type": "code",
   "execution_count": 10,
   "metadata": {
    "collapsed": true
   },
   "outputs": [],
   "source": [
    "import matplotlib.pyplot as plt"
   ]
  },
  {
   "cell_type": "code",
   "execution_count": 12,
   "metadata": {},
   "outputs": [
    {
     "data": {
      "image/png": "[encoded data removed]",
      "text/plain": [
       "<Figure size 432x288 with 1 Axes>"
      ]
     },
     "metadata": {},
     "output_type": "display_data"
    },
    {
     "data": {
      "image/png": "[encoded data removed]",
      "text/plain": [
       "<Figure size 432x288 with 1 Axes>"
      ]
     },
     "metadata": {},
     "output_type": "display_data"
    }
   ],
   "source": [
    "acc = history.history['acc']\n",
    "val_acc = history.history['val_acc']\n",
    "loss = history.history['loss']\n",
    "val_loss = history.history['val_loss']\n",
    "\n",
    "epochs = range(len(acc))\n",
    "\n",
    "plt.plot(epochs, acc, 'bo', label='Training acc')\n",
    "plt.plot(epochs, val_acc, 'b', label='Validation acc')\n",
    "plt.title('Training and validation accuracy')\n",
    "plt.legend()\n",
    "\n",
    "plt.figure()\n",
    "\n",
    "plt.plot(epochs, loss, 'bo', label='Training loss')\n",
    "plt.plot(epochs, val_loss, 'b', label='Validation loss')\n",
    "plt.title('Training and validation loss')\n",
    "plt.legend()\n",
    "\n",
    "plt.show()"
   ]
  },
  {
   "cell_type": "markdown",
   "metadata": {},
   "source": [
    "### Model train(weight unfreezed)"
   ]
  },
  {
   "cell_type": "code",
   "execution_count": 21,
   "metadata": {},
   "outputs": [
    {
     "name": "stdout",
     "output_type": "stream",
     "text": [
      "28\n"
     ]
    }
   ],
   "source": [
    "for layer in base_model.layers:\n",
    "    layer.trainable = True\n",
    "    \n",
    "model.compile(optimizer=Adam(lr=learn_rate),\n",
    "              loss='binary_crossentropy',\n",
    "              metrics=['accuracy'])\n",
    "\n",
    "print(len(model.trainable_weights))"
   ]
  },
  {
   "cell_type": "code",
   "execution_count": 22,
   "metadata": {},
   "outputs": [
    {
     "name": "stdout",
     "output_type": "stream",
     "text": [
      "Epoch 1/50\n",
      "638/638 [==============================] - 165s 259ms/step - loss: 0.1668 - acc: 0.9526 - val_loss: 5.5921 - val_acc: 0.5000\n",
      "Epoch 2/50\n",
      "638/638 [==============================] - 160s 250ms/step - loss: 0.2283 - acc: 0.9656 - val_loss: 5.2156 - val_acc: 0.5000\n",
      "Epoch 3/50\n",
      "638/638 [==============================] - 159s 250ms/step - loss: 0.1828 - acc: 0.9580 - val_loss: 6.4964 - val_acc: 0.5000\n",
      "Epoch 4/50\n",
      "638/638 [==============================] - 160s 250ms/step - loss: 0.1715 - acc: 0.9561 - val_loss: 3.5793 - val_acc: 0.5000\n",
      "Epoch 5/50\n",
      "638/638 [==============================] - 161s 252ms/step - loss: 0.1499 - acc: 0.9584 - val_loss: 3.5987 - val_acc: 0.5000\n",
      "Epoch 6/50\n",
      "638/638 [==============================] - 161s 253ms/step - loss: 0.1326 - acc: 0.9609 - val_loss: 2.2921 - val_acc: 0.5000\n",
      "Epoch 7/50\n",
      "638/638 [==============================] - 160s 251ms/step - loss: 0.0916 - acc: 0.9705 - val_loss: 1.8384 - val_acc: 0.5000\n",
      "Epoch 8/50\n",
      "638/638 [==============================] - 161s 252ms/step - loss: 0.0707 - acc: 0.9764 - val_loss: 1.3146 - val_acc: 0.6167\n",
      "Epoch 9/50\n",
      "638/638 [==============================] - 160s 251ms/step - loss: 0.0381 - acc: 0.9879 - val_loss: 1.0481 - val_acc: 0.7245\n",
      "Epoch 10/50\n",
      "638/638 [==============================] - 161s 252ms/step - loss: 0.0577 - acc: 0.9889 - val_loss: 1.0682 - val_acc: 0.5002\n",
      "Epoch 11/50\n",
      "638/638 [==============================] - 160s 251ms/step - loss: 0.0305 - acc: 0.9898 - val_loss: 1.8622 - val_acc: 0.6793\n",
      "Epoch 12/50\n",
      "638/638 [==============================] - 161s 252ms/step - loss: 0.0238 - acc: 0.9933 - val_loss: 0.4869 - val_acc: 0.8871\n",
      "Epoch 13/50\n",
      "638/638 [==============================] - 161s 252ms/step - loss: 0.0153 - acc: 0.9965 - val_loss: 0.2801 - val_acc: 0.9236\n",
      "Epoch 14/50\n",
      "638/638 [==============================] - 160s 251ms/step - loss: 0.0059 - acc: 0.9989 - val_loss: 0.1436 - val_acc: 0.9576\n",
      "Epoch 15/50\n",
      "638/638 [==============================] - 160s 251ms/step - loss: 0.0022 - acc: 0.9995 - val_loss: 0.0281 - val_acc: 0.9902\n",
      "Epoch 16/50\n",
      "638/638 [==============================] - 160s 250ms/step - loss: 6.1368e-04 - acc: 0.9998 - val_loss: 0.0038 - val_acc: 0.9981\n",
      "Epoch 17/50\n",
      "638/638 [==============================] - 158s 248ms/step - loss: 2.2675e-04 - acc: 1.0000 - val_loss: 0.0020 - val_acc: 0.9992\n",
      "Epoch 18/50\n",
      "638/638 [==============================] - 159s 249ms/step - loss: 6.6107e-05 - acc: 1.0000 - val_loss: 1.0650e-04 - val_acc: 1.0000\n",
      "Epoch 19/50\n",
      "638/638 [==============================] - 159s 249ms/step - loss: 1.8629e-05 - acc: 1.0000 - val_loss: 1.7327e-05 - val_acc: 1.0000\n",
      "Epoch 20/50\n",
      "638/638 [==============================] - 159s 250ms/step - loss: 8.5507e-06 - acc: 1.0000 - val_loss: 9.5725e-06 - val_acc: 1.0000\n",
      "Epoch 21/50\n",
      "638/638 [==============================] - 159s 250ms/step - loss: 5.0345e-06 - acc: 1.0000 - val_loss: 5.6769e-06 - val_acc: 1.0000\n",
      "Epoch 22/50\n",
      "638/638 [==============================] - 159s 250ms/step - loss: 3.0614e-06 - acc: 1.0000 - val_loss: 3.4331e-06 - val_acc: 1.0000\n",
      "Epoch 23/50\n",
      "638/638 [==============================] - 159s 248ms/step - loss: 1.8995e-06 - acc: 1.0000 - val_loss: 2.1384e-06 - val_acc: 1.0000\n",
      "Epoch 24/50\n",
      "638/638 [==============================] - 159s 250ms/step - loss: 1.2068e-06 - acc: 1.0000 - val_loss: 1.3714e-06 - val_acc: 1.0000\n",
      "Epoch 25/50\n",
      "638/638 [==============================] - 159s 249ms/step - loss: 7.8402e-07 - acc: 1.0000 - val_loss: 9.0623e-07 - val_acc: 1.0000\n",
      "Epoch 26/50\n",
      "638/638 [==============================] - 160s 250ms/step - loss: 5.2685e-07 - acc: 1.0000 - val_loss: 6.2178e-07 - val_acc: 1.0000\n",
      "Epoch 27/50\n",
      "638/638 [==============================] - 159s 249ms/step - loss: 3.7033e-07 - acc: 1.0000 - val_loss: 4.4455e-07 - val_acc: 1.0000\n",
      "Epoch 28/50\n",
      "638/638 [==============================] - 159s 250ms/step - loss: 2.7467e-07 - acc: 1.0000 - val_loss: 3.3401e-07 - val_acc: 1.0000\n",
      "Epoch 29/50\n",
      "638/638 [==============================] - 159s 249ms/step - loss: 2.1605e-07 - acc: 1.0000 - val_loss: 2.6333e-07 - val_acc: 1.0000\n",
      "Epoch 30/50\n",
      "638/638 [==============================] - 159s 249ms/step - loss: 1.7955e-07 - acc: 1.0000 - val_loss: 2.1732e-07 - val_acc: 1.0000\n",
      "Epoch 31/50\n",
      "638/638 [==============================] - 159s 249ms/step - loss: 1.5647e-07 - acc: 1.0000 - val_loss: 1.8619e-07 - val_acc: 1.0000\n",
      "Epoch 32/50\n",
      "638/638 [==============================] - 159s 250ms/step - loss: 1.4144e-07 - acc: 1.0000 - val_loss: 1.6474e-07 - val_acc: 1.0000\n",
      "Epoch 33/50\n",
      "638/638 [==============================] - 159s 249ms/step - loss: 1.3159e-07 - acc: 1.0000 - val_loss: 1.5023e-07 - val_acc: 1.0000\n",
      "Epoch 34/50\n",
      "638/638 [==============================] - 159s 249ms/step - loss: 1.2498e-07 - acc: 1.0000 - val_loss: 1.3969e-07 - val_acc: 1.0000\n",
      "Epoch 35/50\n",
      "638/638 [==============================] - 159s 249ms/step - loss: 1.2051e-07 - acc: 1.0000 - val_loss: 1.3220e-07 - val_acc: 1.0000\n",
      "Epoch 36/50\n",
      "638/638 [==============================] - 159s 249ms/step - loss: 1.1734e-07 - acc: 1.0000 - val_loss: 1.2670e-07 - val_acc: 1.0000\n",
      "Epoch 37/50\n",
      "638/638 [==============================] - 159s 250ms/step - loss: 1.1518e-07 - acc: 1.0000 - val_loss: 1.2273e-07 - val_acc: 1.0000\n",
      "Epoch 38/50\n",
      "638/638 [==============================] - 159s 250ms/step - loss: 1.1364e-07 - acc: 1.0000 - val_loss: 1.1994e-07 - val_acc: 1.0000\n",
      "Epoch 39/50\n",
      "638/638 [==============================] - 159s 250ms/step - loss: 1.1255e-07 - acc: 1.0000 - val_loss: 1.1757e-07 - val_acc: 1.0000\n",
      "Epoch 40/50\n",
      "638/638 [==============================] - 159s 250ms/step - loss: 1.1174e-07 - acc: 1.0000 - val_loss: 1.1595e-07 - val_acc: 1.0000\n",
      "Epoch 41/50\n",
      "638/638 [==============================] - 159s 249ms/step - loss: 1.1118e-07 - acc: 1.0000 - val_loss: 1.1453e-07 - val_acc: 1.0000\n",
      "Epoch 42/50\n",
      "638/638 [==============================] - 159s 249ms/step - loss: 1.1076e-07 - acc: 1.0000 - val_loss: 1.1362e-07 - val_acc: 1.0000\n",
      "Epoch 43/50\n",
      "638/638 [==============================] - 159s 249ms/step - loss: 1.1048e-07 - acc: 1.0000 - val_loss: 1.1283e-07 - val_acc: 1.0000\n",
      "Epoch 44/50\n",
      "638/638 [==============================] - 159s 250ms/step - loss: 1.1024e-07 - acc: 1.0000 - val_loss: 1.1223e-07 - val_acc: 1.0000\n",
      "Epoch 45/50\n",
      "638/638 [==============================] - 159s 250ms/step - loss: 1.1010e-07 - acc: 1.0000 - val_loss: 1.1175e-07 - val_acc: 1.0000\n",
      "Epoch 46/50\n",
      "638/638 [==============================] - 159s 249ms/step - loss: 1.0996e-07 - acc: 1.0000 - val_loss: 1.1136e-07 - val_acc: 1.0000\n",
      "Epoch 47/50\n",
      "638/638 [==============================] - 159s 249ms/step - loss: 1.0987e-07 - acc: 1.0000 - val_loss: 1.1110e-07 - val_acc: 1.0000\n",
      "Epoch 48/50\n",
      "638/638 [==============================] - 159s 250ms/step - loss: 1.0981e-07 - acc: 1.0000 - val_loss: 1.1073e-07 - val_acc: 1.0000\n",
      "Epoch 49/50\n",
      "638/638 [==============================] - 159s 250ms/step - loss: 1.0974e-07 - acc: 1.0000 - val_loss: 1.1069e-07 - val_acc: 1.0000\n",
      "Epoch 50/50\n",
      "638/638 [==============================] - 159s 249ms/step - loss: 1.0973e-07 - acc: 1.0000 - val_loss: 1.1065e-07 - val_acc: 1.0000\n"
     ]
    }
   ],
   "source": [
    "history = model.fit_generator(train_generator,\n",
    "                             steps_per_epoch=len(train_generator),\n",
    "                             epochs=nb_epoch,\n",
    "                             validation_data=validation_generator,\n",
    "                             validation_steps=len(validation_generator),\n",
    "                             verbose=1)"
   ]
  },
  {
   "cell_type": "code",
   "execution_count": 23,
   "metadata": {
    "collapsed": true
   },
   "outputs": [],
   "source": [
    "model.save('/home/skkulab/ICCV/models/vgg16_v2.h5')"
   ]
  },
  {
   "cell_type": "markdown",
   "metadata": {},
   "source": [
    "### Draw plot"
   ]
  },
  {
   "cell_type": "code",
   "execution_count": 24,
   "metadata": {},
   "outputs": [
    {
     "data": {
      "image/png": "[encoded data removed]",
      "text/plain": [
       "<Figure size 432x288 with 1 Axes>"
      ]
     },
     "metadata": {},
     "output_type": "display_data"
    },
    {
     "data": {
      "image/png": "[encoded data removed]",
      "text/plain": [
       "<Figure size 432x288 with 1 Axes>"
      ]
     },
     "metadata": {},
     "output_type": "display_data"
    }
   ],
   "source": [
    "acc = history.history['acc']\n",
    "val_acc = history.history['val_acc']\n",
    "loss = history.history['loss']\n",
    "val_loss = history.history['val_loss']\n",
    "\n",
    "epochs = range(len(acc))\n",
    "\n",
    "plt.plot(epochs, acc, 'bo', label='Training acc')\n",
    "plt.plot(epochs, val_acc, 'b', label='Validation acc')\n",
    "plt.title('Training and validation accuracy')\n",
    "plt.legend()\n",
    "\n",
    "plt.figure()\n",
    "\n",
    "plt.plot(epochs, loss, 'bo', label='Training loss')\n",
    "plt.plot(epochs, val_loss, 'b', label='Validation loss')\n",
    "plt.title('Training and validation loss')\n",
    "plt.legend()\n",
    "\n",
    "plt.show()"
   ]
  }
 ],
 "metadata": {
  "kernelspec": {
   "display_name": "Python 3",
   "language": "python",
   "name": "python3"
  },
  "language_info": {
   "codemirror_mode": {
    "name": "ipython",
    "version": 3
   },
   "file_extension": ".py",
   "mimetype": "text/x-python",
   "name": "python",
   "nbconvert_exporter": "python",
   "pygments_lexer": "ipython3",
   "version": "3.6.3"
  }
 },
 "nbformat": 4,
 "nbformat_minor": 2
}
